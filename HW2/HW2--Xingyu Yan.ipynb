{
 "cells": [
  {
   "cell_type": "markdown",
   "metadata": {
    "deletable": true,
    "editable": true
   },
   "source": [
    "# Home Work 2\n",
    "**Xingyu Yan 50291116**"
   ]
  },
  {
   "cell_type": "markdown",
   "metadata": {
    "deletable": true,
    "editable": true
   },
   "source": [
    "## 1 BFS tree"
   ]
  },
  {
   "cell_type": "markdown",
   "metadata": {
    "deletable": true,
    "editable": true
   },
   "source": [
    "The first part is the code I used to count tree height and sibling edge. Following the code, trees and numbers are printed, and the results are given.\n",
    "I assume the node \"A\" corresponds to \"1\", node \"B\" corresponds to \"2\", and so on."
   ]
  },
  {
   "cell_type": "code",
   "execution_count": 1,
   "metadata": {
    "collapsed": true,
    "deletable": true,
    "editable": true
   },
   "outputs": [],
   "source": [
    "edges = [[1,2], [1,3], [1,4], [2,4], [3,4], [3,17], [4,13], [4,12], [5,9],\n",
    "         [5,10], [5,14], [5,15], [5,16], [5,18], [6,7], [6,8], [6,9], [6,16],\n",
    "         [7,8], [7,12], [7,15], [7,16], [7,17], [10,15], [10,17], [11,12], [11,18]]\n",
    "\n",
    "class Node:\n",
    "    def __init__(self,x):\n",
    "        self.val = x\n",
    "        self.nei = [];\n",
    "\n",
    "node_set = set()\n",
    "node_dict = {}\n",
    "\n",
    "for n in range(1, 19):\n",
    "    cur = Node(n)\n",
    "    node_set.add(cur)\n",
    "    node_dict[n] = cur\n",
    "\n",
    "for edge in edges:\n",
    "    left = node_dict[edge[0]]\n",
    "    right = node_dict[edge[1]]\n",
    "    left.nei.append(right)\n",
    "    right.nei.append(left)"
   ]
  },
  {
   "cell_type": "code",
   "execution_count": 2,
   "metadata": {
    "collapsed": false,
    "deletable": true,
    "editable": true
   },
   "outputs": [],
   "source": [
    "def BFS(root):\n",
    "    height = 0\n",
    "    visited = set()\n",
    "    queue = []\n",
    "    queue.append(root)\n",
    "    sib_edge = 0\n",
    "    \n",
    "    while(queue):\n",
    "        height += 1\n",
    "        size = len(queue)\n",
    "        level_node = set()\n",
    "        \n",
    "        for node in queue:\n",
    "            print(node.val, end = \" \")\n",
    "            level_node.add(node)\n",
    "        print(\" \")\n",
    "        \n",
    "        for _ in range(size):\n",
    "            node = queue.pop(0)\n",
    "            for nei in node.nei:\n",
    "                if nei in level_node:\n",
    "                    sib_edge += 1\n",
    "                elif not (nei in visited):\n",
    "                    queue.append(nei)\n",
    "                    visited.add(nei)\n",
    "                            \n",
    "    return height, int(sib_edge/2)"
   ]
  },
  {
   "cell_type": "code",
   "execution_count": 3,
   "metadata": {
    "collapsed": false,
    "deletable": true,
    "editable": true
   },
   "outputs": [],
   "source": [
    "def check_all(node_dict):\n",
    "    h_max = -999\n",
    "    h_min = 999\n",
    "    sib_min = 999\n",
    "    h_max_root = 0\n",
    "    h_min_root = 0\n",
    "    sib_min_root = 0\n",
    "    \n",
    "    for val, root in node_dict.items():\n",
    "        print(\"\\nBFS tree use node\", val, \"as root:\")\n",
    "        h, s = BFS(root)\n",
    "        print(\"It has tree height = \", h, \"sibling edge number = \", s)\n",
    "        if h > h_max:\n",
    "            h_max = h\n",
    "            h_max_root = val\n",
    "        if h < h_min:\n",
    "            h_min = h\n",
    "            h_min_root = val\n",
    "        if s < sib_min:\n",
    "            sib_min = s\n",
    "            sib_min_root = val\n",
    "    return h_max, h_max_root, h_min, h_min_root, sib_min, sib_min_root"
   ]
  },
  {
   "cell_type": "code",
   "execution_count": 4,
   "metadata": {
    "collapsed": false,
    "deletable": true,
    "editable": true,
    "scrolled": false
   },
   "outputs": [
    {
     "name": "stdout",
     "output_type": "stream",
     "text": [
      "\n",
      "BFS tree use node 1 as root:\n",
      "1  \n",
      "2 3 4  \n",
      "1 17 13 12  \n",
      "7 10 11  \n",
      "6 8 15 16 5 18  \n",
      "9 14  \n",
      "It has tree height =  6 sibling edge number =  7\n",
      "\n",
      "BFS tree use node 2 as root:\n",
      "2  \n",
      "1 4  \n",
      "2 3 13 12  \n",
      "17 7 11  \n",
      "10 6 8 15 16 18  \n",
      "5 9  \n",
      "14  \n",
      "It has tree height =  7 sibling edge number =  6\n",
      "\n",
      "BFS tree use node 3 as root:\n",
      "3  \n",
      "1 4 17  \n",
      "2 3 13 12 7 10  \n",
      "11 6 8 15 16 5  \n",
      "18 9 14  \n",
      "It has tree height =  5 sibling edge number =  6\n",
      "\n",
      "BFS tree use node 4 as root:\n",
      "4  \n",
      "1 2 3 13 12  \n",
      "4 17 7 11  \n",
      "10 6 8 15 16 18  \n",
      "5 9  \n",
      "14  \n",
      "It has tree height =  6 sibling edge number =  7\n",
      "\n",
      "BFS tree use node 5 as root:\n",
      "5  \n",
      "9 10 14 15 16 18  \n",
      "5 6 17 7 11  \n",
      "8 3 12  \n",
      "1 4  \n",
      "2 13  \n",
      "It has tree height =  6 sibling edge number =  4\n",
      "\n",
      "BFS tree use node 6 as root:\n",
      "6  \n",
      "7 8 9 16  \n",
      "6 12 15 17 5  \n",
      "4 11 10 3 14 18  \n",
      "1 2 13  \n",
      "It has tree height =  5 sibling edge number =  6\n",
      "\n",
      "BFS tree use node 7 as root:\n",
      "7  \n",
      "6 8 12 15 16 17  \n",
      "7 9 4 11 5 10 3  \n",
      "1 2 13 18 14  \n",
      "It has tree height =  4 sibling edge number =  6\n",
      "\n",
      "BFS tree use node 8 as root:\n",
      "8  \n",
      "6 7  \n",
      "8 9 16 12 15 17  \n",
      "5 4 11 10 3  \n",
      "14 18 1 2 13  \n",
      "It has tree height =  5 sibling edge number =  4\n",
      "\n",
      "BFS tree use node 9 as root:\n",
      "9  \n",
      "5 6  \n",
      "9 10 14 15 16 18 7 8  \n",
      "17 11 12  \n",
      "3 4  \n",
      "1 2 13  \n",
      "It has tree height =  6 sibling edge number =  7\n",
      "\n",
      "BFS tree use node 10 as root:\n",
      "10  \n",
      "5 15 17  \n",
      "9 10 14 16 18 7 3  \n",
      "6 11 8 12 1 4  \n",
      "2 13  \n",
      "It has tree height =  5 sibling edge number =  6\n",
      "\n",
      "BFS tree use node 11 as root:\n",
      "11  \n",
      "12 18  \n",
      "4 7 11 5  \n",
      "1 2 3 13 6 8 15 16 17 9 10 14  \n",
      "It has tree height =  4 sibling edge number =  8\n",
      "\n",
      "BFS tree use node 12 as root:\n",
      "12  \n",
      "4 7 11  \n",
      "1 2 3 13 12 6 8 15 16 17 18  \n",
      "9 5 10  \n",
      "14  \n",
      "It has tree height =  5 sibling edge number =  7\n",
      "\n",
      "BFS tree use node 13 as root:\n",
      "13  \n",
      "4  \n",
      "1 2 3 13 12  \n",
      "17 7 11  \n",
      "10 6 8 15 16 18  \n",
      "5 9  \n",
      "14  \n",
      "It has tree height =  7 sibling edge number =  7\n",
      "\n",
      "BFS tree use node 14 as root:\n",
      "14  \n",
      "5  \n",
      "9 10 14 15 16 18  \n",
      "6 17 7 11  \n",
      "8 3 12  \n",
      "1 4  \n",
      "2 13  \n",
      "It has tree height =  7 sibling edge number =  4\n",
      "\n",
      "BFS tree use node 15 as root:\n",
      "15  \n",
      "5 7 10  \n",
      "9 14 15 16 18 6 8 12 17  \n",
      "11 4 3  \n",
      "1 2 13  \n",
      "It has tree height =  5 sibling edge number =  6\n",
      "\n",
      "BFS tree use node 16 as root:\n",
      "16  \n",
      "5 6 7  \n",
      "9 10 14 15 16 18 8 12 17  \n",
      "11 4 3  \n",
      "1 2 13  \n",
      "It has tree height =  5 sibling edge number =  5\n",
      "\n",
      "BFS tree use node 17 as root:\n",
      "17  \n",
      "3 7 10  \n",
      "1 4 17 6 8 12 15 16 5  \n",
      "2 13 9 11 14 18  \n",
      "It has tree height =  4 sibling edge number =  7\n",
      "\n",
      "BFS tree use node 18 as root:\n",
      "18  \n",
      "5 11  \n",
      "9 10 14 15 16 18 12  \n",
      "6 17 7 4  \n",
      "8 3 1 2 13  \n",
      "It has tree height =  5 sibling edge number =  5\n"
     ]
    }
   ],
   "source": [
    "h_max, h_max_root, h_min, h_min_root, sib_min, sib_min_root = check_all(node_dict)"
   ]
  },
  {
   "cell_type": "markdown",
   "metadata": {
    "deletable": true,
    "editable": true
   },
   "source": [
    "Based on the calculation above, we get the result:\n",
    "* BFS tree rooted at node G, K, Q  has shortest height 4\n",
    "* BFS tree rooted at node B, M, N has longest height 7\n",
    "* BFS tree rooted at node E, H, N has leaset sibling edge 4\n",
    "\n",
    "The nodes in each level of the tree has been printed in above. We can also print the parent/child relation of the tree."
   ]
  },
  {
   "cell_type": "markdown",
   "metadata": {
    "deletable": true,
    "editable": true
   },
   "source": [
    "## 2 Design Algorithm\n",
    "The algorithm is designed and used in Question 1.\n",
    "* We first set one node as root.\n",
    "* Then use BFS to traverse the graph.\n",
    "* In each level of the BFS tree, we construct a set of nodes to save the nodes in current level.\n",
    "* During dequeue, we can check the neighbors of current poped node. If its neighbor is in the set, it means this is a sibling edge. Else if it has not been discovered, we enqueue it.\n",
    "* We can set every node in the graph as the root, then do BFS and get every tree. The tree with least sibling edges can be find.\n",
    "\n",
    "$$G(V,E), \\vert V \\vert = n, \\vert E \\vert = m$$\n",
    "Analysis:\n",
    "\n",
    "* The above single BFS takes $O(n)$ in space, $O(m + n)$ in time (because each node is added to a set in each level).\n",
    "* Because we take each node as root, and do the BFS, we have time complexity totaly $$O(n^2 + n*m)$$ or $$O(n^3)$$"
   ]
  },
  {
   "cell_type": "markdown",
   "metadata": {
    "deletable": true,
    "editable": true
   },
   "source": [
    "## 3 K-core & K-trusses\n",
    "\n"
   ]
  },
  {
   "cell_type": "markdown",
   "metadata": {
    "deletable": true,
    "editable": true
   },
   "source": [
    "### (a) K-core\n",
    "Red: k = 2\n",
    "\n",
    "Yellow: k = 3\n",
    "\n",
    "Green: k = 4\n",
    "\n",
    "Blue: k= 5"
   ]
  },
  {
   "cell_type": "markdown",
   "metadata": {
    "collapsed": true,
    "deletable": true,
    "editable": true
   },
   "source": [
    "![K-core](./k-core.png)"
   ]
  },
  {
   "cell_type": "markdown",
   "metadata": {
    "deletable": true,
    "editable": true
   },
   "source": [
    "### (b) K-truss\n",
    "Red: k = 0\n",
    "\n",
    "Yellow: k = 1\n",
    "\n",
    "Green: k = 2\n",
    "\n",
    "Blue: k = 3"
   ]
  },
  {
   "cell_type": "markdown",
   "metadata": {
    "deletable": true,
    "editable": true
   },
   "source": [
    "![K-truss](./k-truss.png)"
   ]
  }
 ],
 "metadata": {
  "kernelspec": {
   "display_name": "Python 3",
   "language": "python",
   "name": "python3"
  },
  "language_info": {
   "codemirror_mode": {
    "name": "ipython",
    "version": 3
   },
   "file_extension": ".py",
   "mimetype": "text/x-python",
   "name": "python",
   "nbconvert_exporter": "python",
   "pygments_lexer": "ipython3",
   "version": "3.5.2"
  }
 },
 "nbformat": 4,
 "nbformat_minor": 2
}
