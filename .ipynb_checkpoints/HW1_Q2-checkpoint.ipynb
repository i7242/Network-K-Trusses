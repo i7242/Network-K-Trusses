{
 "cells": [
  {
   "cell_type": "code",
   "execution_count": null,
   "metadata": {
    "collapsed": true
   },
   "outputs": [],
   "source": [
    "import numpy as np\n",
    "\n",
    "def count(M):\n",
    "    memo = np.zeros((1,M.shape[0]))\n",
    "    for i in range(0, M.shape[0]):\n",
    "        ct = 0\n",
    "        for j in range(0, M.shape[0]):\n",
    "            if(i != j and M[i][j] != 0):\n",
    "                ct += 1\n",
    "        memo[i] = ct\n",
    "\n",
    "    return memo\n",
    "\n",
    "if __name__ == \"__main__\":\n",
    "\n",
    "    B = np.loadtxt(\"bi.txt\")\n",
    "    ADJ = np.zeros((186, 1059))\n",
    "\n",
    "    for edge in B:\n",
    "        ADJ[int(edge[0]) - 1, int(edge[1]) - 1] = 1\n",
    "\n",
    "    # left projection\n",
    "    LP = np.dot(ADJ, ADJ.T)\n",
    "    LCT = count(LP)\n",
    "\n",
    "    # right projection\n",
    "    RP = np.dot(ADJ.T, ADJ)\n",
    "    RCT = count(RP)\n"
   ]
  }
 ],
 "metadata": {
  "kernelspec": {
   "display_name": "Python 3",
   "language": "python",
   "name": "python3"
  },
  "language_info": {
   "codemirror_mode": {
    "name": "ipython",
    "version": 3
   },
   "file_extension": ".py",
   "mimetype": "text/x-python",
   "name": "python",
   "nbconvert_exporter": "python",
   "pygments_lexer": "ipython3",
   "version": "3.5.2"
  }
 },
 "nbformat": 4,
 "nbformat_minor": 2
}
