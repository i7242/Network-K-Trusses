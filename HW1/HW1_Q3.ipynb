{
 "cells": [
  {
   "cell_type": "code",
   "execution_count": 1,
   "metadata": {
    "collapsed": false,
    "deletable": true,
    "editable": true
   },
   "outputs": [],
   "source": [
    "import numpy as np\n",
    "import matplotlib.pyplot as plt"
   ]
  },
  {
   "cell_type": "markdown",
   "metadata": {
    "deletable": true,
    "editable": true
   },
   "source": [
    "# first question"
   ]
  },
  {
   "cell_type": "code",
   "execution_count": 2,
   "metadata": {
    "collapsed": true,
    "deletable": true,
    "editable": true
   },
   "outputs": [],
   "source": [
    "def update_1(s, outs, beta):\n",
    "    ss = np.zeros(501)\n",
    "    for out in range(1, 501):\n",
    "        n = len(outs[out])\n",
    "        for to in outs[out]:\n",
    "            ss[to] += beta*s[out]/n\n",
    "    ss += (1 - ss.sum())/500\n",
    "    ss[0] = 0\n",
    "    return ss"
   ]
  },
  {
   "cell_type": "code",
   "execution_count": 3,
   "metadata": {
    "collapsed": true,
    "deletable": true,
    "editable": true
   },
   "outputs": [],
   "source": [
    "edges = np.loadtxt(\"directed.txt\", comments = \"%\").astype(int)\n",
    "outs = [[] for _ in range(501)]\n",
    "for edge in edges:\n",
    "    outs[edge[0]].append(edge[1])"
   ]
  },
  {
   "cell_type": "code",
   "execution_count": 4,
   "metadata": {
    "collapsed": true,
    "deletable": true,
    "editable": true
   },
   "outputs": [],
   "source": [
    "s = np.ones(501)/500\n",
    "s[0] = 0\n",
    "\n",
    "for _ in range(50):\n",
    "    s = update_1(s, outs, 0.75)"
   ]
  },
  {
   "cell_type": "code",
   "execution_count": 5,
   "metadata": {
    "collapsed": false,
    "deletable": true,
    "editable": true
   },
   "outputs": [
    {
     "name": "stdout",
     "output_type": "stream",
     "text": [
      "[  7  54  53  18  15   9   1  10 222  55]\n",
      "[0.09326219 0.05057045 0.04066693 0.02488577 0.0239095  0.01942193\n",
      " 0.01923297 0.01608765 0.01412816 0.01112313]\n"
     ]
    }
   ],
   "source": [
    "rank = s.argsort()[::-1][0:10]\n",
    "print(rank)\n",
    "print(s[rank])"
   ]
  },
  {
   "cell_type": "markdown",
   "metadata": {
    "deletable": true,
    "editable": true
   },
   "source": [
    "# second question"
   ]
  },
  {
   "cell_type": "code",
   "execution_count": 6,
   "metadata": {
    "collapsed": true,
    "deletable": true,
    "editable": true
   },
   "outputs": [],
   "source": [
    "def update_2(s, outs, beta):\n",
    "    ss = np.zeros(501)\n",
    "    for out in range(1, 501):\n",
    "        n = len(outs[out])\n",
    "        n = n**2 - n\n",
    "        if n <= 0:\n",
    "            continue\n",
    "        for to in outs[out]:\n",
    "            ss[to] += beta*s[out]/n\n",
    "    ss += (1 - ss.sum())/500\n",
    "    ss[0] = 0\n",
    "    return ss"
   ]
  },
  {
   "cell_type": "code",
   "execution_count": 7,
   "metadata": {
    "collapsed": true,
    "deletable": true,
    "editable": true
   },
   "outputs": [],
   "source": [
    "edges = np.loadtxt(\"directed.txt\", comments = \"%\").astype(int)"
   ]
  },
  {
   "cell_type": "code",
   "execution_count": 8,
   "metadata": {
    "collapsed": false,
    "deletable": true,
    "editable": true
   },
   "outputs": [],
   "source": [
    "outs = [[] for _ in range(501)]\n",
    "for edge in edges:\n",
    "    outs[edge[0]].append(edge[1])"
   ]
  },
  {
   "cell_type": "code",
   "execution_count": 9,
   "metadata": {
    "collapsed": true,
    "deletable": true,
    "editable": true
   },
   "outputs": [],
   "source": [
    "s = np.ones(501)/500\n",
    "s[0] = 0\n",
    "\n",
    "for _ in range(50):\n",
    "    s = update_2(s, outs, 0.75)"
   ]
  },
  {
   "cell_type": "code",
   "execution_count": 10,
   "metadata": {
    "collapsed": false,
    "deletable": true,
    "editable": true
   },
   "outputs": [
    {
     "name": "stdout",
     "output_type": "stream",
     "text": [
      "[ 53  54  18   9 222  76  15  55  41   3]\n",
      "[0.01895708 0.01808946 0.01059047 0.00992642 0.00954422 0.00918924\n",
      " 0.00888467 0.00721486 0.00719949 0.00719949]\n"
     ]
    }
   ],
   "source": [
    "rank = s.argsort()[::-1][0:10]\n",
    "print(rank)\n",
    "print(s[rank])"
   ]
  },
  {
   "cell_type": "code",
   "execution_count": null,
   "metadata": {
    "collapsed": true,
    "deletable": true,
    "editable": true
   },
   "outputs": [],
   "source": []
  }
 ],
 "metadata": {
  "kernelspec": {
   "display_name": "Python 3",
   "language": "python",
   "name": "python3"
  },
  "language_info": {
   "codemirror_mode": {
    "name": "ipython",
    "version": 3
   },
   "file_extension": ".py",
   "mimetype": "text/x-python",
   "name": "python",
   "nbconvert_exporter": "python",
   "pygments_lexer": "ipython3",
   "version": "3.5.2"
  }
 },
 "nbformat": 4,
 "nbformat_minor": 2
}
